{
 "cells": [
  {
   "cell_type": "code",
   "execution_count": 1,
   "id": "33344317",
   "metadata": {},
   "outputs": [],
   "source": [
    "import csv\n",
    "import json"
   ]
  },
  {
   "cell_type": "code",
   "execution_count": 2,
   "id": "efce6f26",
   "metadata": {},
   "outputs": [],
   "source": [
    "# change file and json_file for dataset and different models.\n",
    "\n",
    "file = 'Data/svm.csv'\n",
    "json_file = 'Data/svm.json'"
   ]
  },
  {
   "cell_type": "code",
   "execution_count": 3,
   "id": "bdf42ccc",
   "metadata": {},
   "outputs": [],
   "source": [
    "csv_rows = []\n",
    "with open(file) as csvfile:\n",
    "    reader = csv.DictReader(csvfile)\n",
    "    field = reader.fieldnames\n",
    "    for row in reader:\n",
    "        csv_rows.extend([{field[i]:row[field[i]] for i in range(len(field))}])"
   ]
  },
  {
   "cell_type": "code",
   "execution_count": 4,
   "id": "0f695472",
   "metadata": {},
   "outputs": [],
   "source": [
    "with open(json_file, \"w\") as f:\n",
    "    f.write(json.dumps(csv_rows, sort_keys=False, indent=4, separators=(',', ': ')))"
   ]
  }
 ],
 "metadata": {
  "kernelspec": {
   "display_name": "Python 3",
   "language": "python",
   "name": "python3"
  },
  "language_info": {
   "codemirror_mode": {
    "name": "ipython",
    "version": 3
   },
   "file_extension": ".py",
   "mimetype": "text/x-python",
   "name": "python",
   "nbconvert_exporter": "python",
   "pygments_lexer": "ipython3",
   "version": "3.8.8"
  }
 },
 "nbformat": 4,
 "nbformat_minor": 5
}
